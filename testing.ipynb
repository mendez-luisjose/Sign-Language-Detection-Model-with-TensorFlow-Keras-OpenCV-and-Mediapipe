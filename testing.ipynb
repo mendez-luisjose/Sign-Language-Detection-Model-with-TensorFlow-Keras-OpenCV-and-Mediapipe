{
 "cells": [
  {
   "cell_type": "code",
   "execution_count": null,
   "metadata": {},
   "outputs": [],
   "source": [
    "import cv2\n",
    "from cvzone.HandTrackingModule import HandDetector\n",
    "import tensorflow as tf\n",
    "import numpy as np\n",
    "import math\n",
    "import time\n",
    "import pickle"
   ]
  },
  {
   "cell_type": "code",
   "execution_count": null,
   "metadata": {},
   "outputs": [],
   "source": [
    "MODEL_PATH = \"\"\n",
    "LABELS_PATH = \"\""
   ]
  },
  {
   "cell_type": "code",
   "execution_count": null,
   "metadata": {},
   "outputs": [],
   "source": [
    "model = tf.keras.models.load_model(MODEL_PATH)"
   ]
  },
  {
   "cell_type": "code",
   "execution_count": null,
   "metadata": {},
   "outputs": [],
   "source": [
    "with open(LABELS_PATH, 'rb') as f:\n",
    "    labels = pickle.load(f)"
   ]
  },
  {
   "cell_type": "code",
   "execution_count": null,
   "metadata": {},
   "outputs": [],
   "source": [
    "cap = cv2.VideoCapture(2)\n",
    "detector = HandDetector(maxHands=1)\n",
    "\n",
    "offset = 20\n",
    "img_size = 300\n",
    "counter = 0\n",
    "index = 0\n",
    "message = []\n",
    "weight_margen = 0\n",
    "\n",
    "while cap.isOpened():\n",
    "    success, img = cap.read()\n",
    "    img_output = img.copy()\n",
    "    hands, img_output = detector.findHands(img)\n",
    "\n",
    "    if hands :\n",
    "        hand = hands[0]\n",
    "        x, y, w, h = hand[\"bbox\"]\n",
    "\n",
    "        imgWhite = np.ones((img_size, img_size,3), np.uint8)*255\n",
    "\n",
    "        imgCropped = img[y-offset: y+h+offset, x-offset: x+w+offset]\n",
    "\n",
    "        imgCroppedShape = imgCropped.shape\n",
    "\n",
    "        aspectRatio = h/w\n",
    "        \n",
    "        if aspectRatio > 1 :\n",
    "            k = img_size/h\n",
    "            new_w = math.ceil(k*w)\n",
    "\n",
    "            img_resize = cv2.resize(imgCropped, (new_w, img_size))\n",
    "\n",
    "            imgResizeShape = img_resize.shape\n",
    "            wGap = math.ceil((img_size-new_w)/2)\n",
    "\n",
    "            imgWhite[:, wGap:new_w+wGap] = img_resize\n",
    "\n",
    "            img_pred = imgWhite.copy()\n",
    "            img_pred = cv2.resize(img_pred, (224, 224))\n",
    "            img_pred = np.expand_dims(img_pred, axis = 0)\n",
    "            img_pred = np.vstack([img_pred])\n",
    "\n",
    "            result = model.predict(img_pred)\n",
    "\n",
    "            index = np.argmax(result)\n",
    "\n",
    "        else :\n",
    "            k = img_size/w\n",
    "            new_h = math.ceil(k*h)\n",
    "\n",
    "            img_resize = cv2.resize(imgCropped, (img_size, new_h))\n",
    "            imgResizeShape = img_resize.shape\n",
    "            hGap = math.ceil((img_size-new_h)/2)\n",
    "\n",
    "            imgWhite[hGap:new_h+hGap, :] = img_resize\n",
    "            img_pred = imgWhite.copy()\n",
    "            img_pred = cv2.resize(img_pred, (224, 224))\n",
    "            img_pred = np.expand_dims(img_pred, axis = 0)\n",
    "            img_pred = np.vstack([img_pred])\n",
    "\n",
    "            result = model.predict(img_pred)\n",
    "\n",
    "            index = np.argmax(result)\n",
    "\n",
    "    \n",
    "        cv2.imshow(\"Hand Cropped\", imgCropped)\n",
    "        cv2.imshow(\"White Image\", imgWhite)\n",
    "\n",
    "        cv2.rectangle(img_output, (x-offset-8,y-offset-50), (x-offset+90, y-offset-50+50), (196, 196, 6), cv2.FILLED)\n",
    "        cv2.putText(img_output, labels[index], (x,y-25), cv2.FONT_HERSHEY_COMPLEX, 2, (255, 255, 255), 2)\n",
    "\n",
    "        cv2.rectangle(img_output, (x-offset,y-offset), (x+w+offset, y+h+offset), (196, 196, 6), 2)\n",
    "\n",
    "        key = cv2.waitKey(1)\n",
    "\n",
    "    cv2.imshow(\"Image\", img_output)\n",
    "    cv2.waitKey(1)\n",
    "\n",
    "    if cv2.waitKey(10) & 0xFF == ord('q'):\n",
    "        cap.release()\n",
    "        cv2.destroyAllWindows()\n",
    "        break"
   ]
  }
 ],
 "metadata": {
  "kernelspec": {
   "display_name": "Python 3",
   "language": "python",
   "name": "python3"
  },
  "language_info": {
   "codemirror_mode": {
    "name": "ipython",
    "version": 3
   },
   "file_extension": ".py",
   "mimetype": "text/x-python",
   "name": "python",
   "nbconvert_exporter": "python",
   "pygments_lexer": "ipython3",
   "version": "3.10.9"
  },
  "orig_nbformat": 4
 },
 "nbformat": 4,
 "nbformat_minor": 2
}
